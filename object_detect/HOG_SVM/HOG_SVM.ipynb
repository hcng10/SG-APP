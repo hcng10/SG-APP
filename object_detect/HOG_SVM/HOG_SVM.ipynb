{
 "cells": [
  {
   "cell_type": "code",
   "execution_count": 1,
   "id": "d0bda2ae",
   "metadata": {},
   "outputs": [],
   "source": [
    "import glob\n",
    "\n",
    "import numpy as np\n",
    "\n",
    "from skimage.io import imread\n",
    "from skimage.feature import hog\n",
    "\n",
    "from sklearn.svm import LinearSVC\n",
    "from skimage import exposure\n",
    "from sklearn.preprocessing import StandardScaler\n",
    "from sklearn.model_selection import train_test_split\n",
    "\n",
    "import time\n",
    "\n",
    "import matplotlib.pyplot as plt\n",
    "import os\n",
    "\n",
    "from features import FeaturesRGB"
   ]
  },
  {
   "cell_type": "markdown",
   "id": "9972aad5",
   "metadata": {},
   "source": [
    "Class mapping the name of the original and the augmented one"
   ]
  },
  {
   "cell_type": "code",
   "execution_count": 2,
   "id": "269fdad9",
   "metadata": {},
   "outputs": [],
   "source": [
    "class LftToAuglft:\n",
    "    def __init__(self, lft_filename, idx):\n",
    "        self.lft_name = lft_filename\n",
    "        self.self_idx = idx\n",
    "        self.aug_lft_idx = []"
   ]
  },
  {
   "cell_type": "markdown",
   "id": "71f2cec8",
   "metadata": {},
   "source": [
    "HOG parameters, paths for dataset"
   ]
  },
  {
   "cell_type": "code",
   "execution_count": 3,
   "id": "b120b5e5",
   "metadata": {},
   "outputs": [],
   "source": [
    "hog_params = {\n",
    "    'orientations': 11, # number of bins\n",
    "    'pixels_per_cell': (8, 8), # normally (8,8), refers to 8x8 pixels are used to calculate hog\n",
    "    'cells_per_block': (2, 2),\n",
    "    'block_norm': 'L2-Hys'\n",
    "}\n",
    "\n",
    "ftrRGB = FeaturesRGB(hog_params)\n",
    "lft_paths = glob.glob('../images/lateral/training/cropped/*.jpg')\n",
    "auglft_paths = glob.glob('../images/lateral/training/augmented/*.jpg')\n",
    "\n",
    "nonlft_paths = glob.glob('../images/non-lateral/training/*.jpg')\n"
   ]
  },
  {
   "cell_type": "markdown",
   "id": "e178e6d8",
   "metadata": {},
   "source": [
    "## Main\n",
    "\n",
    "#### HOG for LFT"
   ]
  },
  {
   "cell_type": "code",
   "execution_count": 4,
   "id": "ce84b7f9",
   "metadata": {},
   "outputs": [
    {
     "name": "stdout",
     "output_type": "stream",
     "text": [
      "Load lateral flow test images, get HOG and add to the feature list ...\n",
      "Loading and generating HOG for LFT...\n",
      "Finish, files loaded:  148\n"
     ]
    }
   ],
   "source": [
    "print(\"Load lateral flow test images, get HOG and add to the feature list ...\")\n",
    "\n",
    "lft_features, auglft_features, nonlft_features = [], [], []\n",
    "lft_ftToAuglft = {}\n",
    "lft_ftToAuglft_list = []\n",
    "auglft_filename = []\n",
    "\n",
    "count = 0\n",
    "\n",
    "print(\"Loading and generating HOG for LFT...\")\n",
    "for path in lft_paths: \n",
    "    # Get file name\n",
    "    f_split = os.path.basename(path)\n",
    "    name_tmp = os.path.splitext(f_split)[0]\n",
    "    \n",
    "    lftToAuglft_obj = LftToAuglft(name_tmp, count)\n",
    "    \n",
    "    lft_ftToAuglft[name_tmp] = lftToAuglft_obj\n",
    "    lft_ftToAuglft_list.append(lftToAuglft_obj)\n",
    "    \n",
    "    #lft_ftToAuglft.append(LftToAuglft(os.path.splitext(f_split)[0]))\n",
    "    \n",
    "    lft_img = imread(path) \n",
    "\n",
    "    hog_flatten = ftrRGB.cal_hog(lft_img, 0)\n",
    "    lft_features.append(hog_flatten)\n",
    "    \n",
    "    \n",
    "    count = count + 1\n",
    "    #if count == 20:\n",
    "        #break\n",
    "        \n",
    "print(\"Finish, files loaded: \", count)\n",
    "\n",
    "\n"
   ]
  },
  {
   "cell_type": "markdown",
   "id": "aafe5e99",
   "metadata": {},
   "source": [
    "#### Get the filename for augmented LFT"
   ]
  },
  {
   "cell_type": "code",
   "execution_count": null,
   "id": "9ed4a25c",
   "metadata": {},
   "outputs": [],
   "source": [
    "count = 0\n",
    "auglft_filename = []\n",
    "\n",
    "print(\"Loading files for augmented LFT...\")\n",
    "for path in auglft_paths: \n",
    "    # Get file name\n",
    "    f_split = os.path.basename(path)\n",
    "    name_tmp = os.path.splitext(f_split)[0]\n",
    "    name_prefix_tmp = name_tmp.split('_')[0]\n",
    "\n",
    "    \n",
    "    \n",
    "    if name_prefix_tmp in lft_ftToAuglft:\n",
    "        lft_ftToAuglft[name_prefix_tmp].aug_lft_idx.append(len(auglft_filename))\n",
    "    else:\n",
    "        print(\"Cannot find the original image: \", name_prefix_tmp)\n",
    "        break\n",
    "        \n",
    "        \n",
    "    auglft_filename.append(name_tmp)\n",
    "    \n",
    "    count = count + 1\n",
    "\n",
    "print(\"Finish, files loaded: \", count)  \n",
    "\n",
    "\n",
    "for key, value in lft_ftToAuglft.items():    \n",
    "    print(key, value.aug_lft_idx, value.self_idx)\n"
   ]
  },
  {
   "cell_type": "markdown",
   "id": "eca8a385",
   "metadata": {},
   "source": [
    "#### HOG for augmented LFT"
   ]
  },
  {
   "cell_type": "code",
   "execution_count": null,
   "id": "ac998c18",
   "metadata": {},
   "outputs": [],
   "source": [
    "count = 0\n",
    "auglft_features = []\n",
    "\n",
    "print(\"Loading and generating HOG for augmented LFT...\")\n",
    "for path in auglft_paths: \n",
    "\n",
    "    lft_img = imread(path) \n",
    "    \n",
    "    hog_flatten = ftrRGB.cal_hog(lft_img, 0)\n",
    "    auglft_features.append(hog_flatten)\n",
    "    \n",
    "    count += 1\n",
    "    \n",
    "    \n",
    "print(\"Finish, files loaded: \", count)  "
   ]
  },
  {
   "cell_type": "markdown",
   "id": "25f199c4",
   "metadata": {},
   "source": [
    "#### HOG for non-LFT"
   ]
  },
  {
   "cell_type": "code",
   "execution_count": null,
   "id": "505cca24",
   "metadata": {},
   "outputs": [],
   "source": [
    "print(\"Load non-lateral flow test images, get HOG and add to the feature list ...\")\n",
    "\n",
    "count = 0  \n",
    "nonlft_features = []\n",
    "print(\"Loading and generating HOG for non-LFT...\")\n",
    "  \n",
    "for path in nonlft_paths: \n",
    "    nonlft_image = imread(path)\n",
    "\n",
    "    hog_flatten = ftrRGB.cal_hog(nonlft_image, 0)\n",
    "    \n",
    "    nonlft_features.append(hog_flatten)\n",
    "    \n",
    "    count = count + 1\n",
    "    #if count == 10:\n",
    "        #break\n",
    "        \n",
    "print(\"Finish, files loaded: \", count)  \n"
   ]
  },
  {
   "cell_type": "markdown",
   "id": "ee9627a6",
   "metadata": {},
   "source": [
    "### Convert to numpy"
   ]
  },
  {
   "cell_type": "code",
   "execution_count": null,
   "id": "b4f8cb56",
   "metadata": {},
   "outputs": [],
   "source": [
    "\n",
    "for i in range(0, len(nonlft_features)):\n",
    "    print(i, len(nonlft_features[i]), nonlft_features[i])"
   ]
  },
  {
   "cell_type": "code",
   "execution_count": null,
   "id": "ea79913d",
   "metadata": {},
   "outputs": [],
   "source": [
    "np_lft_features = np.asarray(lft_features)\n",
    "np_auglft_features = np.asarray(auglft_features)\n",
    "np_nonlft_features = np.asarray(nonlft_features)"
   ]
  },
  {
   "cell_type": "code",
   "execution_count": null,
   "id": "ba45dfc1",
   "metadata": {},
   "outputs": [],
   "source": [
    "print(\"np_lft_features: \", np_lft_features.shape)\n",
    "print(\"np_auglft_features: \", np_auglft_features.shape)\n",
    "print(\"np_nonlft_features: \", np_nonlft_features.shape)\n",
    "\n",
    "unscaled_x = np.vstack((np_lft_features, np_auglft_features, np_nonlft_features)).astype(np.float64)\n",
    "print(unscaled_x.shape)\n",
    "\n",
    "#print(unscaled_x)\n",
    "scaler = StandardScaler().fit(unscaled_x)\n",
    "x = scaler.transform(unscaled_x)\n",
    "\n",
    "print(x.shape)\n",
    "#print(x)"
   ]
  },
  {
   "cell_type": "code",
   "execution_count": null,
   "id": "799597e2",
   "metadata": {},
   "outputs": [],
   "source": [
    "lft_cnt = np_lft_features.shape[0]\n",
    "auglft_cnt = np_auglft_features.shape[0]\n",
    "nonlft_cnt = np_nonlft_features.shape[0]\n",
    "\n",
    "\n",
    "\n",
    "x_lft = x[:lft_cnt, :]\n",
    "x_auglft = x[lft_cnt:auglft_cnt+lft_cnt, :] \n",
    "x_nonlft = x[auglft_cnt+lft_cnt:, :] \n",
    "\n",
    "print(x_lft.shape)\n",
    "print(x_auglft.shape)\n",
    "print(x_nonlft.shape)\n",
    "\n",
    "#y = np.hstack((np.ones(lft_cnt), np.zeros(nonlft_cnt)))"
   ]
  },
  {
   "cell_type": "code",
   "execution_count": null,
   "id": "c1dac426",
   "metadata": {},
   "outputs": [],
   "source": [
    "y = np.hstack((np.ones(lft_cnt + auglft_cnt), np.zeros(nonlft_cnt)))\n",
    "\n",
    "\n",
    "print(\" x shape: \", x.shape, \" y shape: \", y.shape)"
   ]
  },
  {
   "cell_type": "code",
   "execution_count": null,
   "id": "cf388b72",
   "metadata": {},
   "outputs": [],
   "source": [
    "print(\"Training classifier...\")\n",
    "t_start = time.time()\n",
    "\n",
    "x_train, x_test, y_train, y_test = train_test_split(x, y, test_size = 0.2,\n",
    "                                                    random_state =0)\n",
    "\n",
    "svc = LinearSVC()\n",
    "svc.fit(x_train, y_train)\n",
    "accuracy = svc.score(x_test, y_test)\n",
    "\n",
    "print(\"...Done\")\n",
    "print(\"Time Taken:\", np.round(time.time() - t_start, 2))\n",
    "print(\"Accuracy: \", np.round(accuracy, 4))"
   ]
  },
  {
   "cell_type": "code",
   "execution_count": null,
   "id": "f97411f4",
   "metadata": {},
   "outputs": [],
   "source": [
    "print (\"Saving models...\")\n",
    "import joblib\n",
    "\n",
    "joblib.dump(svc, '../svc2.pkl')\n",
    "joblib.dump(scaler, '../scaler2.pkl')\n",
    "\n",
    "print(\"...Done\")"
   ]
  },
  {
   "cell_type": "code",
   "execution_count": null,
   "id": "2ad74d6d",
   "metadata": {},
   "outputs": [],
   "source": [
    "        \"\"\"\n",
    "        fig, ax = plt.subplots(1, 2, figsize=(10, 5))\n",
    "        \n",
    "        ax[0].axis('off')\n",
    "        ax[0].title.set_text('Original')\n",
    "        #R_hog_image_rescaled = exposure.rescale_intensity(self.R_hog_image, in_range=(0, 10))\n",
    "        #ax[0].imshow(R_hog_image_rescaled, cmap=plt.cm.gray)\n",
    "        ax[0].imshow(self.RGB_img)\n",
    "        \n",
    "        ax[1].axis('off')\n",
    "        ax[1].title.set_text('HOG (pixels_per_cell 8x8)')\n",
    "        R_hog_image_rescaled = exposure.rescale_intensity(self.R_hog_image, in_range=(0, 10))\n",
    "        ax[1].imshow(R_hog_image_rescaled, cmap=plt.cm.gray)\n",
    "        \n",
    "        #ax[2].axis('off')\n",
    "        #B_hog_image_rescaled = exposure.rescale_intensity(self.B_hog_image, in_range=(0, 10))\n",
    "        #ax[2].imshow(B_hog_image_rescaled, cmap=plt.cm.gray)  \n",
    "        \"\"\""
   ]
  },
  {
   "cell_type": "markdown",
   "id": "aa157e3e",
   "metadata": {},
   "source": []
  }
 ],
 "metadata": {
  "kernelspec": {
   "display_name": "Python 3",
   "language": "python",
   "name": "python3"
  },
  "language_info": {
   "codemirror_mode": {
    "name": "ipython",
    "version": 3
   },
   "file_extension": ".py",
   "mimetype": "text/x-python",
   "name": "python",
   "nbconvert_exporter": "python",
   "pygments_lexer": "ipython3",
   "version": "3.8.8"
  }
 },
 "nbformat": 4,
 "nbformat_minor": 5
}
